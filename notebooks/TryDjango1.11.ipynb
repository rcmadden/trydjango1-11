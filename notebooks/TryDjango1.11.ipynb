{
 "cells": [
  {
   "cell_type": "markdown",
   "metadata": {},
   "source": [
    "### start jupyter notebook on cloud9"
   ]
  },
  {
   "cell_type": "markdown",
   "metadata": {},
   "source": [
    "activate virtual environment"
   ]
  },
  {
   "cell_type": "code",
   "execution_count": null,
   "metadata": {
    "collapsed": true
   },
   "outputs": [],
   "source": [
    "workon notebooks"
   ]
  },
  {
   "cell_type": "markdown",
   "metadata": {},
   "source": [
    "start notebook server on cloud9"
   ]
  },
  {
   "cell_type": "code",
   "execution_count": null,
   "metadata": {
    "collapsed": true
   },
   "outputs": [],
   "source": [
    "jupyter notebook --ip=0.0.0.0 --port=8080 --no-browser"
   ]
  },
  {
   "cell_type": "markdown",
   "metadata": {},
   "source": [
    "Keyboard Navigation:\n",
    "http://jupyter-notebook.readthedocs.io/en/latest/examples/Notebook/Notebook%20Basics.html?highlight=directory#Keyboard-Navigation"
   ]
  },
  {
   "cell_type": "markdown",
   "metadata": {},
   "source": [
    "### Render Templates"
   ]
  },
  {
   "cell_type": "markdown",
   "metadata": {},
   "source": [
    "### Include Template Tag"
   ]
  },
  {
   "cell_type": "markdown",
   "metadata": {},
   "source": [
    "#### Snippets"
   ]
  },
  {
   "cell_type": "markdown",
   "metadata": {},
   "source": [
    "using bootstrap css and javasctipt\n",
    "https://getbootstrap.com/docs/3.3/getting-started/\n",
    "jquery minified core version cdn link address"
   ]
  },
  {
   "cell_type": "markdown",
   "metadata": {},
   "source": [
    "### Django Class Based Views\n",
    "https://docs.djangoproject.com/en/1.11/ref/class-based-views/base/#view"
   ]
  },
  {
   "cell_type": "markdown",
   "metadata": {
    "collapsed": true
   },
   "source": [
    "### Template View"
   ]
  },
  {
   "cell_type": "markdown",
   "metadata": {},
   "source": [
    "https://docs.djangoproject.com/en/1.11/ref/class-based-views/base/#templateview"
   ]
  },
  {
   "cell_type": "markdown",
   "metadata": {},
   "source": [
    "## Model Fields"
   ]
  },
  {
   "cell_type": "code",
   "execution_count": 4,
   "metadata": {
    "collapsed": true
   },
   "outputs": [],
   "source": [
    "# restaruants/models.py\n",
    "\n",
    "class RestaurantLocation(models.Model):\n",
    "    name      = models.CharField(max_length=120)\n",
    "    location  = models.CharField(max_length=120, null=True)\n",
    "    timestamp = models.CharField(auto_now_add=True)\n",
    "    updated   = models.CharField(auto_now=True)\n",
    "    "
   ]
  },
  {
   "cell_type": "markdown",
   "metadata": {
    "collapsed": true
   },
   "source": [
    "base.py\n",
    "INSTALLED_APP [\n",
    "'restaurants',\n",
    "]"
   ]
  },
  {
   "cell_type": "code",
   "execution_count": null,
   "metadata": {
    "collapsed": true
   },
   "outputs": [],
   "source": [
    "restaurants/admin.py"
   ]
  },
  {
   "cell_type": "markdown",
   "metadata": {
    "collapsed": true
   },
   "source": [
    "\n",
    "- model fields: https://docs.djangoproject.com/en/1.11/ref/models/fields/\n",
    "- field types:  https://docs.djangoproject.com/en/1.11/ref/models/fields/#field-types"
   ]
  },
  {
   "cell_type": "code",
   "execution_count": null,
   "metadata": {
    "collapsed": true
   },
   "outputs": [],
   "source": [
    "python manage.py migrate"
   ]
  },
  {
   "cell_type": "code",
   "execution_count": null,
   "metadata": {
    "collapsed": true
   },
   "outputs": [],
   "source": [
    "python manage.py makemigrations"
   ]
  },
  {
   "cell_type": "markdown",
   "metadata": {
    "collapsed": true
   },
   "source": [
    "login to django admin in browser:  url/admin"
   ]
  },
  {
   "cell_type": "markdown",
   "metadata": {},
   "source": [
    "## Display Saved Data"
   ]
  },
  {
   "cell_type": "code",
   "execution_count": null,
   "metadata": {
    "collapsed": true
   },
   "outputs": [],
   "source": [
    "#views.py\n",
    "from django.views.generic import TemplateView\n",
    "\n",
    "from .models import RestaurantLocation\n",
    "\n",
    "def restaurant_listview(request):\n",
    "    template_name= 'restaurants/restaruants_list.html'\n",
    "    queryset = RestaruantLocation.objects.all()\n",
    "    context = {\n",
    "        \"object_list\":queryset\n",
    "    }\n",
    "    return render(request, template_name, context)"
   ]
  },
  {
   "cell_type": "code",
   "execution_count": 11,
   "metadata": {
    "collapsed": true
   },
   "outputs": [],
   "source": [
    "# urls.py\n",
    "#\n",
    "#\n",
    "from restaurants.views import restaruant_listview\n",
    "\n",
    "# urlpatters = [\n",
    "    url(r'^restaurants/$', restaurant_listview),\n",
    "#"
   ]
  },
  {
   "cell_type": "code",
   "execution_count": 12,
   "metadata": {},
   "outputs": [
    {
     "ename": "SyntaxError",
     "evalue": "invalid syntax (<ipython-input-12-dc28a7d9d09f>, line 2)",
     "output_type": "error",
     "traceback": [
      "\u001b[0;36m  File \u001b[0;32m\"<ipython-input-12-dc28a7d9d09f>\"\u001b[0;36m, line \u001b[0;32m2\u001b[0m\n\u001b[0;31m    {% extends \"base.html\" %}\u001b[0m\n\u001b[0m     ^\u001b[0m\n\u001b[0;31mSyntaxError\u001b[0m\u001b[0;31m:\u001b[0m invalid syntax\n"
     ]
    }
   ],
   "source": [
    "# restaurant_list.html\n",
    "#\n",
    "#\n",
    "\n",
    "{% block conent %}\n",
    "    <h1>Restaurant List</h1>\n",
    "    <ul>\n",
    "        {% for obj in object_list %}\n",
    "           <li>{{ obj.name }} {{ obj.location }} {{ obj.timestamp }} {{ obj.updated }}</li>\n",
    "        {% endfor %}\n",
    "    </ul>\n",
    "{% endblock %}"
   ]
  },
  {
   "cell_type": "code",
   "execution_count": null,
   "metadata": {
    "collapsed": true
   },
   "outputs": [],
   "source": [
    "# models.py\n",
    "#\n",
    "#\n",
    "# returns object name to obj.name in admin\n",
    "    def __str__(self):\n",
    "        return self.name        "
   ]
  },
  {
   "cell_type": "markdown",
   "metadata": {},
   "source": [
    "# QuerySets"
   ]
  },
  {
   "cell_type": "markdown",
   "metadata": {},
   "source": [
    "from the cli\n",
    "- python manage.py shell\n",
    "- commands: https://docs.djangoproject.com/en/1.11/topics/db/queries/\n"
   ]
  },
  {
   "cell_type": "code",
   "execution_count": null,
   "metadata": {
    "collapsed": true
   },
   "outputs": [],
   "source": [
    "python manage.py shell"
   ]
  },
  {
   "cell_type": "markdown",
   "metadata": {},
   "source": [
    "run these in command shell"
   ]
  },
  {
   "cell_type": "code",
   "execution_count": null,
   "metadata": {
    "collapsed": true
   },
   "outputs": [],
   "source": [
    "from restaurants.models impor RestaurantLocation\n",
    "\n",
    "for obj in RestaurantLocation.objects.all()\n",
    "    print(ojb.name)"
   ]
  },
  {
   "cell_type": "code",
   "execution_count": null,
   "metadata": {
    "collapsed": true
   },
   "outputs": [],
   "source": [
    "qs = RestaurantLocation.objects.all()"
   ]
  },
  {
   "cell_type": "code",
   "execution_count": null,
   "metadata": {
    "collapsed": true
   },
   "outputs": [],
   "source": [
    "qs.filter(category='mexican')"
   ]
  },
  {
   "cell_type": "markdown",
   "metadata": {},
   "source": [
    "case insensitive"
   ]
  },
  {
   "cell_type": "code",
   "execution_count": null,
   "metadata": {
    "collapsed": true
   },
   "outputs": [],
   "source": [
    "qs.filter(category__iexact='mexican')"
   ]
  },
  {
   "cell_type": "code",
   "execution_count": null,
   "metadata": {
    "collapsed": true
   },
   "outputs": [],
   "source": [
    "qs.update(category='Mexican')"
   ]
  },
  {
   "cell_type": "code",
   "execution_count": null,
   "metadata": {
    "collapsed": true
   },
   "outputs": [],
   "source": [
    "qs"
   ]
  },
  {
   "cell_type": "code",
   "execution_count": null,
   "metadata": {
    "collapsed": true
   },
   "outputs": [],
   "source": [
    "create an instance object"
   ]
  },
  {
   "cell_type": "code",
   "execution_count": null,
   "metadata": {
    "collapsed": true
   },
   "outputs": [],
   "source": [
    "obj = RestaurantLocation()"
   ]
  },
  {
   "cell_type": "code",
   "execution_count": null,
   "metadata": {
    "collapsed": true
   },
   "outputs": [],
   "source": [
    "obj.name= \"Pei Wei\""
   ]
  },
  {
   "cell_type": "code",
   "execution_count": null,
   "metadata": {
    "collapsed": true
   },
   "outputs": [],
   "source": [
    "obj.location = \"Newport Beach\""
   ]
  },
  {
   "cell_type": "code",
   "execution_count": null,
   "metadata": {
    "collapsed": true
   },
   "outputs": [],
   "source": [
    "obj.category = \"Asian Fusion\""
   ]
  },
  {
   "cell_type": "code",
   "execution_count": null,
   "metadata": {
    "collapsed": true
   },
   "outputs": [],
   "source": [
    "obj"
   ]
  },
  {
   "cell_type": "code",
   "execution_count": null,
   "metadata": {
    "collapsed": true
   },
   "outputs": [],
   "source": [
    "obj = RestaruantLocation.objects.create(name='Chronic Tacos, location='Corona Del Mar, categoy='Mexican')"
   ]
  },
  {
   "cell_type": "code",
   "execution_count": null,
   "metadata": {
    "collapsed": true
   },
   "outputs": [],
   "source": [
    "obj"
   ]
  },
  {
   "cell_type": "code",
   "execution_count": null,
   "metadata": {
    "collapsed": true
   },
   "outputs": [],
   "source": [
    "obj.timestamp"
   ]
  },
  {
   "cell_type": "code",
   "execution_count": null,
   "metadata": {
    "collapsed": true
   },
   "outputs": [],
   "source": [
    "qs.exists()"
   ]
  },
  {
   "cell_type": "code",
   "execution_count": null,
   "metadata": {
    "collapsed": true
   },
   "outputs": [],
   "source": [
    "qs2 = RestaurantLocation.objects.filter(category__iexact='mexican')"
   ]
  },
  {
   "cell_type": "code",
   "execution_count": null,
   "metadata": {
    "collapsed": true
   },
   "outputs": [],
   "source": [
    "qs2.count()"
   ]
  },
  {
   "cell_type": "code",
   "execution_count": null,
   "metadata": {
    "collapsed": true
   },
   "outputs": [],
   "source": [
    "qs"
   ]
  },
  {
   "cell_type": "markdown",
   "metadata": {},
   "source": [
    "## Generic List View"
   ]
  },
  {
   "cell_type": "markdown",
   "metadata": {},
   "source": [
    "https://docs.djangoproject.com/en/1.11/ref/class-based-views/generic-display/"
   ]
  },
  {
   "cell_type": "code",
   "execution_count": null,
   "metadata": {
    "collapsed": true
   },
   "outputs": [],
   "source": [
    "# view.py\n",
    "from django.db.models import Q # q lookups\n",
    "#\n",
    "#\n",
    "from django.views.generic import TemplateView,ListView\n",
    "#\n",
    "\n",
    "# class SearchRestaurantListView(ListView):\n",
    "class RestaurantListView(ListView):\n",
    "#     template_name = 'restaurants/restaurants_list.html' \n",
    "# create in the expected default app/path/file in:\n",
    "# restaurants/templates/restaurants/restauarantslocation_detail.html\n",
    "\n",
    "#     print(self.kwargs)\n",
    "    def get_queryset(self):\n",
    "        slug = self.kwargs.get(\"slug\")\n",
    "        if slug:\n",
    "            queryset = RestaurantLocation.objects.filter(\n",
    "                Q(category__iexact=slug) |\n",
    "                Q(category__icontains=slug)\n",
    "            )\n",
    "        else:\n",
    "            queryset = RestaurantLocation.objects.none()\n",
    "        return queryset\n",
    "#"
   ]
  },
  {
   "cell_type": "code",
   "execution_count": null,
   "metadata": {
    "collapsed": true
   },
   "outputs": [],
   "source": [
    "https://github.com/codingforentrepreneurs/Try-Django-1.11/blob/26cc050bc69587622c8311504318f3565bd37e7e/src/muypicky/urls.py\n"
   ]
  },
  {
   "cell_type": "code",
   "execution_count": null,
   "metadata": {
    "collapsed": true
   },
   "outputs": [],
   "source": [
    "# urls.py\n",
    "from restaurant.views import (\n",
    "#\n",
    "    SearchRestaruantListView\n",
    ")\n",
    "\n",
    "    url(r'^restaurants/(?P<slug>\\w+)/$', RestaurantListView.as_view()),\n"
   ]
  },
  {
   "cell_type": "markdown",
   "metadata": {},
   "source": [
    "Common Regular Expressions for Django:\n",
    "https://www.codingforentrepreneurs.com/blog/common-regular-expressions-for-django-urls/\n"
   ]
  },
  {
   "cell_type": "markdown",
   "metadata": {},
   "source": [
    "restaurants/templates/restaurants/restauarantslocation_detail.html\n",
    "https://github.com/codingforentrepreneurs/Try-Django-1.11/blob/03e4bad83cdb7e5fe1bf84c009cdecc6149374bf/src/restaurants/templates/restaurants/restaurantlocation_detail.html\n",
    "    "
   ]
  },
  {
   "cell_type": "markdown",
   "metadata": {},
   "source": [
    "views.py\n",
    "get_object_or_404\n",
    "http://bit.ly/2wvOGD9"
   ]
  },
  {
   "cell_type": "markdown",
   "metadata": {},
   "source": [
    "#### create unique slug in shell\n",
    "\n",
    "In [1]: from restaurants.models import RestaurantLocation\n",
    "\n",
    "In [2]: obj=RestaurantLocation.objects.get(id=1)\n",
    "\n",
    "In [3]: obj\n",
    "Out[3]: <RestaurantLocation: Farmer's Bottega>\n",
    "\n",
    "In [4]: obj.name\n",
    "Out[4]: \"Farmer's Bottega\"\n",
    "\n",
    "In [5]: obj.title\n",
    "Out[5]: \"Farmer's Bottega\"\n",
    "\n",
    "In [6]: from restaurants.utils import unique_slug_generator\n",
    "\n",
    "In [7]: print(unique_slug_generator(obj))\n",
    "farmers-bottega"
   ]
  },
  {
   "cell_type": "markdown",
   "metadata": {
    "collapsed": true
   },
   "source": [
    "## Slug Field & Unique Slug Generator"
   ]
  },
  {
   "cell_type": "markdown",
   "metadata": {},
   "source": [
    "design readable urls\n",
    "- slug lookup in database\n",
    "- add slug in model.py\n",
    "- create restaurants/utils.py and add unique_slug_generator function:\n",
    "-- https://www.codingforentrepreneurs.com/blog/a-unique-slug-generator-for-django/\n",
    "-- in utils.py add imports and random_string_generator function - https://www.codingforentrepreneurs.com/blog/random-string-generator-in-python/\n",
    "-- this makes sure that django slugify returns a unique instance\n",
    "-- note our instance is self.name not self.title\n",
    "-- in models:\n"
   ]
  },
  {
   "cell_type": "code",
   "execution_count": null,
   "metadata": {
    "collapsed": true
   },
   "outputs": [],
   "source": [
    "# models.py \n",
    "    # unique = True will error with provide a unique default\n",
    "    # slug = models.SlugField(unique=True) # disable when creating with objects already in database\n",
    "    slug = models.SlugField(null=True, blank=True)\n",
    "#\n",
    "@property\n",
    "def title(self):\n",
    "    return self.name #allows us to make obj.title unique even if the name is the Same, ie 2 baja-fish-taco restaurants\n"
   ]
  },
  {
   "cell_type": "code",
   "execution_count": null,
   "metadata": {
    "collapsed": true
   },
   "outputs": [],
   "source": [
    "python manage.py makemigrations"
   ]
  },
  {
   "cell_type": "code",
   "execution_count": null,
   "metadata": {
    "collapsed": true
   },
   "outputs": [],
   "source": [
    "python manage.py migrate"
   ]
  },
  {
   "cell_type": "markdown",
   "metadata": {
    "collapsed": true
   },
   "source": [
    "![create slug](/sluggify_shell_commands.png?raw=true)\n",
    "Format: ![Alt Text](url)"
   ]
  },
  {
   "cell_type": "markdown",
   "metadata": {},
   "source": [
    "## Signal for a Unique Slug"
   ]
  },
  {
   "cell_type": "markdown",
   "metadata": {},
   "source": [
    "https://docs.djangoproject.com/en/1.11/topics/signals/\n",
    "Signals send a signal when you are about to save something and again after you save somethin\n",
    "pre_save and post_save\n",
    "reciever function(s)\n",
    "--resaurant_loation_pre_save_reciever"
   ]
  },
  {
   "cell_type": "code",
   "execution_count": null,
   "metadata": {
    "collapsed": true
   },
   "outputs": [],
   "source": [
    "# models.py\n",
    "# set slug with pre-save\n",
    "# https://github.com/codingforentrepreneurs/Try-Django-1.11/blob/acc9519afefe36db48f233c58e06dbd6397d56b1/src/restaurants/models.py\n",
    "#\n",
    "#\n",
    "from django.db.models.signals import pre_save, post_save\n",
    "from .utils import unique_slug_generator\n",
    "\n",
    "#\n",
    "#\n",
    "def rl_pre_save_receiver(sender, instance, *args, **kwargs):\n",
    "    if not instance.slug:\n",
    "        instance.slug = unique_slug_generator(instance)\n",
    "\n",
    "pre_save.connect(rl_pre_save_receiver, sender=RestaurantLocation)\n"
   ]
  },
  {
   "cell_type": "markdown",
   "metadata": {},
   "source": [
    "https://github.com/codingforentrepreneurs/Try-Django-1.11/blob/acc9519afefe36db48f233c58e06dbd6397d56b1/src/restaurants/models.py\n",
    "test this by adding items in admin and will see commented out code in terminal\n",
    "Notes:\n",
    "    - if using the commented out code the post_save continues a loop"
   ]
  },
  {
   "cell_type": "markdown",
   "metadata": {},
   "source": [
    "## Slugs As URL Patterns"
   ]
  },
  {
   "cell_type": "markdown",
   "metadata": {},
   "source": [
    "creating the signals for saving unique slugs allows unique urls to be generated and have the urls be more robust\n",
    "- better for SEO"
   ]
  },
  {
   "cell_type": "code",
   "execution_count": null,
   "metadata": {
    "collapsed": true
   },
   "outputs": [],
   "source": [
    "#urls.py\n",
    "# allow slug to be passed with the unique trailing characters\n",
    "    url(r'^restaurants/(?P<slug>[\\w-]+)/$', RestaurantDetailView.as_view()),\n"
   ]
  },
  {
   "cell_type": "code",
   "execution_count": null,
   "metadata": {
    "collapsed": true
   },
   "outputs": [],
   "source": [
    "#views.py\n",
    "#remove get_object call below\n",
    "    # def get_object(self, *args, **kwargs):\n",
    "    #     rest_id = self.kwargs.get('rest_id')\n",
    "    #     obj = get_object_or_404(RestaurantLocation, id=rest_id) # pk = rest_id\n",
    "    #     return obj"
   ]
  },
  {
   "cell_type": "code",
   "execution_count": null,
   "metadata": {
    "collapsed": true
   },
   "outputs": [],
   "source": [
    "#/restaurants/templates/restaurants/restaurantlocation_list.html\n",
    "#\n",
    "    <li><a href='/restaurants/{{ obj.slug }}/'>{{ obj }}</a><br/>\n",
    "\n",
    "#\n"
   ]
  },
  {
   "cell_type": "markdown",
   "metadata": {},
   "source": [
    "in django admin saving each location creates them, since we created the signals\n",
    "- click each and Save and Continue\n",
    "- this will create the unique slug links in the restaurantloation_list.html for referencing"
   ]
  },
  {
   "cell_type": "markdown",
   "metadata": {},
   "source": [
    "## Get Singal Items from DB"
   ]
  },
  {
   "cell_type": "markdown",
   "metadata": {
    "collapsed": true
   },
   "source": [
    "handle exceptions with "
   ]
  },
  {
   "cell_type": "markdown",
   "metadata": {},
   "source": [
    "## Validation"
   ]
  },
  {
   "cell_type": "markdown",
   "metadata": {},
   "source": [
    "django validators"
   ]
  },
  {
   "cell_type": "markdown",
   "metadata": {},
   "source": [
    "## Letting Users own Data"
   ]
  },
  {
   "cell_type": "markdown",
   "metadata": {},
   "source": [
    "django ForeignKey Relationship fields\n",
    "associations\n",
    "django user model\n",
    "- django.contrib.auth\n",
    "- Django Models Unleashed on cfe.com"
   ]
  },
  {
   "cell_type": "code",
   "execution_count": null,
   "metadata": {
    "collapsed": true
   },
   "outputs": [],
   "source": [
    "# models.py\n"
   ]
  },
  {
   "cell_type": "markdown",
   "metadata": {},
   "source": [
    "associate user to restaurant to ForeignKey\n",
    "_set.all()\n",
    "reverse association \n",
    "class_instance.model_set.all()"
   ]
  },
  {
   "cell_type": "markdown",
   "metadata": {},
   "source": [
    "## Associate User to Form Data in FBV"
   ]
  },
  {
   "cell_type": "markdown",
   "metadata": {},
   "source": [
    "Associate users to models using Function Based Views\n",
    "- user.is_validated\n",
    "- redirect to login if not"
   ]
  },
  {
   "cell_type": "markdown",
   "metadata": {
    "collapsed": true
   },
   "source": [
    "## Associate User to Data in Class View"
   ]
  },
  {
   "cell_type": "markdown",
   "metadata": {},
   "source": [
    "overrive form_valid function"
   ]
  },
  {
   "cell_type": "code",
   "execution_count": null,
   "metadata": {
    "collapsed": true
   },
   "outputs": [],
   "source": [
    "def class RestaurantCreateView():\n",
    "    #\n",
    "    #\n",
    "    def form_valid(self, form):\n",
    "        instance = form.save(commit=False)\n",
    "        instance.owner = self.request.user\n",
    "        return super(RestaurantCreateView, self).form_valid(form)\n",
    "                "
   ]
  },
  {
   "cell_type": "markdown",
   "metadata": {},
   "source": [
    "should not be able to see form unless logged in"
   ]
  },
  {
   "cell_type": "markdown",
   "metadata": {
    "collapsed": true
   },
   "source": [
    "## Login Required to View\n"
   ]
  },
  {
   "cell_type": "markdown",
   "metadata": {},
   "source": [
    "function based as either a decorator or mixin\n",
    "- login required decorator with function https://docs.djangoproject.com/en/1.11/topics/auth/default/\n",
    "    - add @login_required to function or @login_required(@login_url='/login/')\n",
    "    - urls.py add url(r'^restaurants/$', restaurant_creatview,\n",
    "    - comment out class based view ... , RestaruantCreateView.as_view()),"
   ]
  },
  {
   "cell_type": "markdown",
   "metadata": {},
   "source": [
    "- login required mixin\n",
    "    - mixins are for class based views. copy from docs"
   ]
  },
  {
   "cell_type": "code",
   "execution_count": null,
   "metadata": {
    "collapsed": true
   },
   "outputs": [],
   "source": [
    "#\n",
    "from django.contrib.auth.mixins import LoginRequiredMixin\n",
    "#\n",
    "class RestaurantCreateView(LoginRequiredMixin, CreateView):\n",
    "    #\n",
    "    login_url = '/login/'\n",
    "    #"
   ]
  },
  {
   "cell_type": "markdown",
   "metadata": {},
   "source": [
    "in urls.py re-activate url\n",
    "  - comment out urls.py add url(r'^restaurants/$', restaurant_creatview,\n",
    "  - un-comment class based view ... , RestaruantCreateView.as_view()),"
   ]
  },
  {
   "cell_type": "markdown",
   "metadata": {},
   "source": [
    "to make login url automatic/defualt\n",
    "- comment out in view class and add it to base.py"
   ]
  },
  {
   "cell_type": "code",
   "execution_count": null,
   "metadata": {
    "collapsed": true
   },
   "outputs": [],
   "source": [
    "# base.py\n",
    "\n",
    "# ROOT_URLCONF = ...\n",
    "LOGIN_URL = '/login/'\n",
    "# TEMPLACTES = ..."
   ]
  },
  {
   "cell_type": "markdown",
   "metadata": {},
   "source": [
    "## LoginView"
   ]
  },
  {
   "cell_type": "markdown",
   "metadata": {},
   "source": [
    "when not logged in without LoginRequiredMixin\n",
    "- attempts create an anonomous user object"
   ]
  },
  {
   "cell_type": "markdown",
   "metadata": {},
   "source": [
    "Django LoginView class\n",
    "- https://docs.djangoproject.com/en/1.11/topics/auth/default/#the-login-required-decorator"
   ]
  },
  {
   "cell_type": "code",
   "execution_count": null,
   "metadata": {
    "collapsed": true
   },
   "outputs": [],
   "source": [
    "# urls.py\n",
    "# from django.contrib.auth import views as auth_views\n",
    "# ^ imports everthing, instead just import LoginView\n",
    "from django.contrib.auth.views import LoginView\n",
    "\n",
    "url(r'^/login/$', auth_views.LoginView.as_view()),"
   ]
  },
  {
   "cell_type": "code",
   "execution_count": null,
   "metadata": {
    "collapsed": true
   },
   "outputs": [],
   "source": [
    "# error folder path\n",
    "# templates/registration/login.html\n",
    "# copy code from django to go off default template location\n"
   ]
  },
  {
   "cell_type": "markdown",
   "metadata": {},
   "source": [
    "https://docs.djangoproject.com/en/1.11/topics/auth/default/#django.contrib.auth.views.LoginView\n",
    "- copy the registration/login.html {% extends \"base.html\" %} code from above\n",
    "- returns reverse for 'login' not found\n",
    "- shortcut name portion of url (see urls.py commented out section and set name='login':\n",
    "Class-based views\n",
    "    1. Add an import:  from other_app.views import Home\n",
    "    2. Add a URL to urlpatterns:  url(r'^$', Home.as_view(), name='home')\n",
    "- error now reads Reverse for 'password_reset' not found.\n",
    "\n",
    "- setup password_reset view from Django PasswordReset docs\n",
    "- or comment out login.html line\n",
    "  - {% url 'password_reset' %}\">Lost password?"
   ]
  },
  {
   "cell_type": "markdown",
   "metadata": {
    "collapsed": true
   },
   "source": [
    "## Using Reverse to Shortcut URLs"
   ]
  },
  {
   "cell_type": "code",
   "execution_count": null,
   "metadata": {
    "collapsed": true
   },
   "outputs": [],
   "source": [
    "# snippet/nav.html\n",
    "# make urls use reverse pattern\n",
    "<a href='{% url \"home\" %}'>Home</a>"
   ]
  },
  {
   "cell_type": "code",
   "execution_count": null,
   "metadata": {
    "collapsed": true
   },
   "outputs": [],
   "source": [
    "# urls.py \n",
    ", name='home'\n",
    ", name='about'\n",
    ", name='contact'"
   ]
  },
  {
   "cell_type": "code",
   "execution_count": null,
   "metadata": {
    "collapsed": true
   },
   "outputs": [],
   "source": [
    "# can use inside template ie.  restaurant_list.html\n",
    "# but not the best way\n",
    "< href='{% url \"restaurant-detail\" %}'> {{obj}}</a><br/>\n",
    "# ^ this will error with Reverse for 'restaurant-detail' with no arguments not found. 1 pattern tried\n",
    "< href='{% url \"restaurant-detail\" slug=obj.slug %}'> {{ obj }}</a><br/>"
   ]
  },
  {
   "cell_type": "code",
   "execution_count": null,
   "metadata": {
    "collapsed": true
   },
   "outputs": [],
   "source": [
    "# models.py\n",
    "from django.core.urlresolvers import reverse \n",
    "\n",
    "class RestaurantLocation(models.Model):\n",
    "    #\n",
    "    #\n",
    "    \n",
    "    def get_absoulute_url(self):\n",
    "        return reverse('restaurant-detail', kwargs={'slug': self.slug})"
   ]
  },
  {
   "cell_type": "code",
   "execution_count": null,
   "metadata": {
    "collapsed": true
   },
   "outputs": [],
   "source": [
    "# restaurant_list.html\n",
    "< href='{{ obj.get_absoulute_url }}'> {{obj}}</a><br/>"
   ]
  },
  {
   "cell_type": "markdown",
   "metadata": {
    "collapsed": true
   },
   "source": [
    "each app will have it's own urls related specifically to that app\n",
    "using namespace"
   ]
  },
  {
   "cell_type": "markdown",
   "metadata": {},
   "source": [
    "## Menu Items App"
   ]
  },
  {
   "cell_type": "markdown",
   "metadata": {},
   "source": [
    "get realdata from yelp api with the geolocator app"
   ]
  },
  {
   "cell_type": "code",
   "execution_count": null,
   "metadata": {
    "collapsed": true
   },
   "outputs": [],
   "source": [
    "python manage.py startapp menus\n",
    "models.py\n",
    "    - http://bit.ly/2wG0gdx\n",
    "base.py\n",
    "    - add installed app to list\n",
    "admin.py\n",
    "    - from .models import Item\n",
    "    - admin.site.register(Item)\n",
    "models.py\n",
    "    - def get_content\n",
    "    - def get_excludes \n",
    "views.py\n",
    "    - for ItemDetail, ItemCreate, and ItemUpdate copy just this:\n",
    "    - class ItemListView(ListView):\n",
    "        def get_queryset(self):\n",
    "        return Item.objects.filter(user=self.request.user)\n",
    "    - create and update views require forms\n",
    "    - http://bit.ly/2eIxN2m\n",
    "forms.py\n",
    "    - http://bit.ly/2j13zsp\n",
    "urls.py\n",
    "    - create urls for the 4 views in views.py (in video only)\n",
    "    - https://www.codingforentrepreneurs.com/projects/try-django-111/menu-item-views/?play=true#/lecture\n",
    "    - errors with url and templates does not exist\n",
    "    - create directories\n",
    "/menus/templates/menus/item_list.html\n",
    "    - http://bit.ly/2xMKJZs\n",
    "    - create menu_items in django admin > Save and continue\n",
    "menus/models.py\n",
    "    - def get_absolute_url(self):\n",
    "        return reverse('menu:detail'....)\n",
    "    \n",
    "\n",
    "    \n"
   ]
  },
  {
   "cell_type": "markdown",
   "metadata": {},
   "source": [
    "## Menu Item Views"
   ]
  },
  {
   "cell_type": "code",
   "execution_count": null,
   "metadata": {
    "collapsed": true
   },
   "outputs": [],
   "source": [
    "# menus/views.py\n",
    "\n",
    "# forms.py\n",
    "from .models import ItemForms\n",
    "from .models import Item\n",
    "\n",
    "#urls.py\n",
    "from .views import (\n",
    "    ItecmCreatVieiw,\n",
    "    ItemDetailView, \n",
    "    etc.)\n",
    "urlpatters = [\n",
    "    # order matters. list sast\n",
    "]\n",
    "\n",
    "# menus/templates/menus/item_list.html\n",
    "# populate with contents of the item \n",
    "(% if obj.contents %)\n",
    "    {% for item in obj.get_contents %}\n",
    "        # populate with contents of the item \n",
    "    {% endfor %}\n",
    "{% endif %}\n",
    "\n",
    "#views.py\n",
    "\n",
    "#models.py\n",
    "\n",
    "#menus/item_detail.html\n",
    "\n",
    "\n",
    "#views.py\n",
    "def get_context_data(self, *args, **kwargs):\n",
    "    pass\n",
    "\n",
    "def form_valid(self, form):\n",
    "    pass\n",
    "    \n",
    "# form.html\n",
    "\n"
   ]
  },
  {
   "cell_type": "markdown",
   "metadata": {},
   "source": [
    "## Limiting Form Field to QuerySet"
   ]
  },
  {
   "cell_type": "code",
   "execution_count": null,
   "metadata": {
    "collapsed": true
   },
   "outputs": [],
   "source": [
    "#restaurant/views.py\n",
    "# add in form keyword arguments forms.py #views.py login required mixin\n",
    "# froms.py import class from restaruant.models\n",
    "## could limit/exclude nulls\n",
    "\n",
    "# update ItemUpdateView medthod and add urls"
   ]
  },
  {
   "cell_type": "code",
   "execution_count": null,
   "metadata": {
    "collapsed": true
   },
   "outputs": [],
   "source": [
    "# restaurantlocation_list.html\n",
    "\n",
    "# nav.html\n",
    ".is_authenticated"
   ]
  },
  {
   "cell_type": "markdown",
   "metadata": {
    "collapsed": true
   },
   "source": [
    "## Personalize Items"
   ]
  },
  {
   "cell_type": "markdown",
   "metadata": {},
   "source": [
    "Change how restaurants and menu items show up only show logged in users items\n",
    "- remove old funtion based views and imports from urls.py in both menus/ and resturants/\n",
    "- modify RestaurantListView to require login and return owner\n",
    "- import UpdateView\n",
    "- modify last function fto RestuarantUpdateview\n",
    "- update urls.py\n",
    "\n",
    "filter for only My Restaurants\n",
    "\n",
    "    def get_queryset(self):\n",
    "        return RestaruantLocation.object.filter(owner=self.request.user)\n",
    "        \n",
    "- restaurantlocation_list.html add link to restaurant create view\n",
    "- nav.html update only available if logged in \n",
    "- for edit return context restaurant title name\n",
    "- test edi in url /edit\n",
    "- delete any other non-restaurant items\n",
    "\n",
    "change detail view to allow view and edit in same view\n",
    "- create detail-update.html \n",
    "- adjust urls.py\n",
    "- add form in snippets/form-snippet.html\n",
    "- include snippent in form-snippet and add with form=form\n",
    "-- can pass in context in the include snippet\n",
    "- add ability to change slug\n",
    "- do same with menus/detail-update.html adjust urls.py\n",
    "- challenge - add ability to change restaurant \n",
    "- menus/item-list.html add menus:create url link\n",
    "-- add empty tag to add menu item\n",
    "-- int action=update the url of the restaurnt  ..../items/3"
   ]
  },
  {
   "cell_type": "markdown",
   "metadata": {},
   "source": [
    "## User Profile View"
   ]
  },
  {
   "cell_type": "markdown",
   "metadata": {},
   "source": [
    "Build a public profile\n",
    "-create a new app"
   ]
  },
  {
   "cell_type": "code",
   "execution_count": null,
   "metadata": {
    "collapsed": true
   },
   "outputs": [],
   "source": [
    "python manage.py startapp profiles"
   ]
  },
  {
   "cell_type": "code",
   "execution_count": null,
   "metadata": {
    "collapsed": true
   },
   "outputs": [],
   "source": [
    "# views.py\n",
    "# imports\n",
    "class ProfileDetailView():\n",
    "    pass"
   ]
  },
  {
   "cell_type": "markdown",
   "metadata": {
    "collapsed": true
   },
   "source": [
    "- urls.py\n",
    "- look up on <username>\n",
    "- add profiles.url\n",
    "- must be called with pk or slug\n",
    "- import get_object_or_404\n",
    "- create def get_object()\n",
    "- raise Http404 error if username is None\n",
    "- templates/profiles/user.html\n",
    "- base.py add profiles in INSTALLED_APPs\n",
    "- user.html\n",
    "-- display restaurants and items for the user\n",
    "-- models.py add __str__ function to see query_set results\n",
    "--- hints item_set.all, item.get_contents\n",
    "--- style li's add /br\n",
    "--- if user.item_set.all() exists"
   ]
  },
  {
   "cell_type": "markdown",
   "metadata": {},
   "source": [
    "## Style Profile with Boostrap"
   ]
  },
  {
   "cell_type": "markdown",
   "metadata": {},
   "source": [
    "div classes\n",
    "row\n",
    "    col-sm-12\n",
    "        thumbnail\n",
    "optional span class='badge badge-default'"
   ]
  },
  {
   "cell_type": "markdown",
   "metadata": {},
   "source": [
    "## Adding a Robust Search"
   ]
  },
  {
   "cell_type": "code",
   "execution_count": null,
   "metadata": {
    "collapsed": true
   },
   "outputs": [],
   "source": [
    "# views.py\n",
    "def get_context_data():\n",
    "    # create query set for restaurant locatin\n",
    "# profiles/user.html \n",
    "# add imports\n",
    "# include locations\n",
    "# if items and restaurnats exist return query set context"
   ]
  },
  {
   "cell_type": "markdown",
   "metadata": {},
   "source": [
    "user.html\n",
    "- search box form, text, btn \n",
    "- in type pass value {{ request.GET.q }}\n",
    "- option:  in def get_context set variable query = self.request.GET.get('q')\n",
    "    - make it re-usable by creating class RestaurantLocationManager()\n",
    "   \n",
    "- update def get_context to call class RestaurantLocationManager() search method \n",
    "- class RestaurantLocationQuerySet\n",
    "-- hint pass the user in the search "
   ]
  },
  {
   "cell_type": "code",
   "execution_count": null,
   "metadata": {
    "collapsed": true
   },
   "outputs": [],
   "source": [
    "# add more complex lookup by adding\n",
    "from django.models import Q\n",
    "# searh function \n",
    "        return self.filter(\n",
    "          Q(name__icontains=query) |\n",
    "          Q(location__icontains=query)|\n",
    "          Q(category__icontains=query)|\n",
    "          Q(item__name__icontains=query)|\n",
    "          Q(item__contents__icontains=query)|\n",
    "            ).distinct()\n",
    "    return self\n",
    "# http://bit.ly/2xQtTIw"
   ]
  },
  {
   "cell_type": "code",
   "execution_count": null,
   "metadata": {
    "collapsed": true
   },
   "outputs": [],
   "source": [
    "\n",
    "make any of the links clickable ( into searh ) \n",
    " href {{ request.path }}?={{ ing }}>{{ ing }}"
   ]
  },
  {
   "cell_type": "markdown",
   "metadata": {},
   "source": [
    "## Follow Users"
   ]
  },
  {
   "cell_type": "code",
   "execution_count": null,
   "metadata": {
    "collapsed": true
   },
   "outputs": [],
   "source": [
    "create a new model in profiles\n",
    "user\n",
    "follower\n",
    "following"
   ]
  },
  {
   "cell_type": "code",
   "execution_count": null,
   "metadata": {
    "collapsed": true
   },
   "outputs": [],
   "source": [
    "http://bit.ly/2xSVg5y"
   ]
  },
  {
   "cell_type": "markdown",
   "metadata": {
    "collapsed": true
   },
   "source": [
    "- get the reverse relationship\n",
    "- what the user i inside of followers and \n",
    "- inside of following\n",
    "- shell_commands http://bit.ly/2xSUCoo\n",
    "- follow someone by default and have followers by default"
   ]
  },
  {
   "cell_type": "markdown",
   "metadata": {},
   "source": [
    "## Follow Button Form"
   ]
  },
  {
   "cell_type": "markdown",
   "metadata": {},
   "source": [
    "- create template tag filter after create endpoint\n",
    "- endpoint => class ProfileFollowToggle(View):\n",
    "    - def post()\n",
    "-  add endpoint into urls\n",
    "- user template snippet for profiles\n",
    "- /profiles/snippet/follow_form.html {csrf_token)\n",
    "- user.html include snippet\n",
    "- profile import View\n",
    "- thi implements the follow/unfollow toggle button (a)synchronously(reloads the page each time\n",
    "  - see tweet me project for implemnting with jquery"
   ]
  },
  {
   "cell_type": "markdown",
   "metadata": {},
   "source": [
    "## Following Home Page Feed"
   ]
  },
  {
   "cell_type": "markdown",
   "metadata": {},
   "source": [
    "- get upadtes from people I'm following"
   ]
  },
  {
   "cell_type": "markdown",
   "metadata": {},
   "source": [
    "## Register View"
   ]
  },
  {
   "cell_type": "code",
   "execution_count": null,
   "metadata": {
    "collapsed": true
   },
   "outputs": [],
   "source": [
    "Djando User Model Unleashed\n",
    "- does a function based view\n",
    "- impliment it here as a class based view\n",
    "- http://bit.ly/2xQEGSM\n",
    "    - UserCreationForm copy -> RegisterForm"
   ]
  },
  {
   "cell_type": "code",
   "execution_count": null,
   "metadata": {
    "collapsed": true
   },
   "outputs": [],
   "source": []
  }
 ],
 "metadata": {
  "celltoolbar": "Raw Cell Format",
  "kernelspec": {
   "display_name": "Python 3",
   "language": "python",
   "name": "python3"
  },
  "language_info": {
   "codemirror_mode": {
    "name": "ipython",
    "version": 3
   },
   "file_extension": ".py",
   "mimetype": "text/x-python",
   "name": "python",
   "nbconvert_exporter": "python",
   "pygments_lexer": "ipython3",
   "version": "3.6.2"
  }
 },
 "nbformat": 4,
 "nbformat_minor": 2
}
